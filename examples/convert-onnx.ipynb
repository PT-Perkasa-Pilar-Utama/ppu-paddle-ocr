{
 "cells": [
  {
   "cell_type": "code",
   "execution_count": 1,
   "metadata": {
    "colab": {
     "base_uri": "https://localhost:8080/"
    },
    "executionInfo": {
     "elapsed": 5549,
     "status": "ok",
     "timestamp": 1748925531229,
     "user": {
      "displayName": "Awal Ariansyah",
      "userId": "00770188991731066934"
     },
     "user_tz": -420
    },
    "id": "mMBFyeRav2VN",
    "outputId": "d4d66345-4abd-4eb7-be32-70c1a72d3e82"
   },
   "outputs": [
    {
     "name": "stdout",
     "output_type": "stream",
     "text": [
      "Requirement already satisfied: paddleocr in /usr/local/lib/python3.11/dist-packages (3.0.0)\n",
      "Requirement already satisfied: paddlepaddle in /usr/local/lib/python3.11/dist-packages (3.0.0)\n",
      "Requirement already satisfied: paddle2onnx in /usr/local/lib/python3.11/dist-packages (2.0.1)\n",
      "Requirement already satisfied: onnxruntime in /usr/local/lib/python3.11/dist-packages (1.22.0)\n",
      "Requirement already satisfied: onnxslim in /usr/local/lib/python3.11/dist-packages (0.1.56)\n",
      "Requirement already satisfied: paddlex==3.0.0 in /usr/local/lib/python3.11/dist-packages (from paddlex[ie,multimodal,ocr]==3.0.0->paddleocr) (3.0.0)\n",
      "Requirement already satisfied: PyYAML>=6 in /usr/local/lib/python3.11/dist-packages (from paddleocr) (6.0.2)\n",
      "Requirement already satisfied: typing-extensions>=4.12 in /usr/local/lib/python3.11/dist-packages (from paddleocr) (4.13.2)\n",
      "Requirement already satisfied: chardet in /usr/local/lib/python3.11/dist-packages (from paddlex==3.0.0->paddlex[ie,multimodal,ocr]==3.0.0->paddleocr) (5.2.0)\n",
      "Requirement already satisfied: colorlog in /usr/local/lib/python3.11/dist-packages (from paddlex==3.0.0->paddlex[ie,multimodal,ocr]==3.0.0->paddleocr) (6.9.0)\n",
      "Requirement already satisfied: filelock in /usr/local/lib/python3.11/dist-packages (from paddlex==3.0.0->paddlex[ie,multimodal,ocr]==3.0.0->paddleocr) (3.18.0)\n",
      "Requirement already satisfied: GPUtil>=1.4 in /usr/local/lib/python3.11/dist-packages (from paddlex==3.0.0->paddlex[ie,multimodal,ocr]==3.0.0->paddleocr) (1.4.0)\n",
      "Requirement already satisfied: numpy==1.24.4 in /usr/local/lib/python3.11/dist-packages (from paddlex==3.0.0->paddlex[ie,multimodal,ocr]==3.0.0->paddleocr) (1.24.4)\n",
      "Requirement already satisfied: packaging in /usr/local/lib/python3.11/dist-packages (from paddlex==3.0.0->paddlex[ie,multimodal,ocr]==3.0.0->paddleocr) (24.2)\n",
      "Requirement already satisfied: pandas<=1.5.3 in /usr/local/lib/python3.11/dist-packages (from paddlex==3.0.0->paddlex[ie,multimodal,ocr]==3.0.0->paddleocr) (1.5.3)\n",
      "Requirement already satisfied: pillow in /usr/local/lib/python3.11/dist-packages (from paddlex==3.0.0->paddlex[ie,multimodal,ocr]==3.0.0->paddleocr) (11.2.1)\n",
      "Requirement already satisfied: prettytable in /usr/local/lib/python3.11/dist-packages (from paddlex==3.0.0->paddlex[ie,multimodal,ocr]==3.0.0->paddleocr) (3.16.0)\n",
      "Requirement already satisfied: py-cpuinfo in /usr/local/lib/python3.11/dist-packages (from paddlex==3.0.0->paddlex[ie,multimodal,ocr]==3.0.0->paddleocr) (9.0.0)\n",
      "Requirement already satisfied: pydantic>=2 in /usr/local/lib/python3.11/dist-packages (from paddlex==3.0.0->paddlex[ie,multimodal,ocr]==3.0.0->paddleocr) (2.11.4)\n",
      "Requirement already satisfied: requests in /usr/local/lib/python3.11/dist-packages (from paddlex==3.0.0->paddlex[ie,multimodal,ocr]==3.0.0->paddleocr) (2.32.3)\n",
      "Requirement already satisfied: ruamel.yaml in /usr/local/lib/python3.11/dist-packages (from paddlex==3.0.0->paddlex[ie,multimodal,ocr]==3.0.0->paddleocr) (0.18.12)\n",
      "Requirement already satisfied: ujson in /usr/local/lib/python3.11/dist-packages (from paddlex==3.0.0->paddlex[ie,multimodal,ocr]==3.0.0->paddleocr) (5.10.0)\n",
      "Requirement already satisfied: einops in /usr/local/lib/python3.11/dist-packages (from paddlex[ie,multimodal,ocr]==3.0.0->paddleocr) (0.8.1)\n",
      "Requirement already satisfied: ftfy in /usr/local/lib/python3.11/dist-packages (from paddlex[ie,multimodal,ocr]==3.0.0->paddleocr) (6.3.1)\n",
      "Requirement already satisfied: Jinja2 in /usr/local/lib/python3.11/dist-packages (from paddlex[ie,multimodal,ocr]==3.0.0->paddleocr) (3.1.6)\n",
      "Requirement already satisfied: opencv-contrib-python==4.10.0.84 in /usr/local/lib/python3.11/dist-packages (from paddlex[ie,multimodal,ocr]==3.0.0->paddleocr) (4.10.0.84)\n",
      "Requirement already satisfied: pypdfium2>=4 in /usr/local/lib/python3.11/dist-packages (from paddlex[ie,multimodal,ocr]==3.0.0->paddleocr) (4.30.1)\n",
      "Requirement already satisfied: regex in /usr/local/lib/python3.11/dist-packages (from paddlex[ie,multimodal,ocr]==3.0.0->paddleocr) (2024.11.6)\n",
      "Requirement already satisfied: tiktoken in /usr/local/lib/python3.11/dist-packages (from paddlex[ie,multimodal,ocr]==3.0.0->paddleocr) (0.9.0)\n",
      "Requirement already satisfied: imagesize in /usr/local/lib/python3.11/dist-packages (from paddlex[ie,multimodal,ocr]==3.0.0->paddleocr) (1.4.1)\n",
      "Requirement already satisfied: langchain==0.2.17 in /usr/local/lib/python3.11/dist-packages (from paddlex[ie,multimodal,ocr]==3.0.0->paddleocr) (0.2.17)\n",
      "Requirement already satisfied: langchain-community==0.2.17 in /usr/local/lib/python3.11/dist-packages (from paddlex[ie,multimodal,ocr]==3.0.0->paddleocr) (0.2.17)\n",
      "Requirement already satisfied: langchain-core in /usr/local/lib/python3.11/dist-packages (from paddlex[ie,multimodal,ocr]==3.0.0->paddleocr) (0.2.43)\n",
      "Requirement already satisfied: langchain-openai==0.1.25 in /usr/local/lib/python3.11/dist-packages (from paddlex[ie,multimodal,ocr]==3.0.0->paddleocr) (0.1.25)\n",
      "Requirement already satisfied: lxml in /usr/local/lib/python3.11/dist-packages (from paddlex[ie,multimodal,ocr]==3.0.0->paddleocr) (5.4.0)\n",
      "Requirement already satisfied: openai==1.63.2 in /usr/local/lib/python3.11/dist-packages (from paddlex[ie,multimodal,ocr]==3.0.0->paddleocr) (1.63.2)\n",
      "Requirement already satisfied: openpyxl in /usr/local/lib/python3.11/dist-packages (from paddlex[ie,multimodal,ocr]==3.0.0->paddleocr) (3.1.5)\n",
      "Requirement already satisfied: premailer in /usr/local/lib/python3.11/dist-packages (from paddlex[ie,multimodal,ocr]==3.0.0->paddleocr) (3.10.0)\n",
      "Requirement already satisfied: pyclipper in /usr/local/lib/python3.11/dist-packages (from paddlex[ie,multimodal,ocr]==3.0.0->paddleocr) (1.3.0.post6)\n",
      "Requirement already satisfied: scikit-learn in /usr/local/lib/python3.11/dist-packages (from paddlex[ie,multimodal,ocr]==3.0.0->paddleocr) (1.6.1)\n",
      "Requirement already satisfied: shapely in /usr/local/lib/python3.11/dist-packages (from paddlex[ie,multimodal,ocr]==3.0.0->paddleocr) (2.1.1)\n",
      "Requirement already satisfied: tokenizers==0.19.1 in /usr/local/lib/python3.11/dist-packages (from paddlex[ie,multimodal,ocr]==3.0.0->paddleocr) (0.19.1)\n",
      "Requirement already satisfied: SQLAlchemy<3,>=1.4 in /usr/local/lib/python3.11/dist-packages (from langchain==0.2.17->paddlex[ie,multimodal,ocr]==3.0.0->paddleocr) (2.0.41)\n",
      "Requirement already satisfied: aiohttp<4.0.0,>=3.8.3 in /usr/local/lib/python3.11/dist-packages (from langchain==0.2.17->paddlex[ie,multimodal,ocr]==3.0.0->paddleocr) (3.11.15)\n",
      "Requirement already satisfied: langchain-text-splitters<0.3.0,>=0.2.0 in /usr/local/lib/python3.11/dist-packages (from langchain==0.2.17->paddlex[ie,multimodal,ocr]==3.0.0->paddleocr) (0.2.4)\n",
      "Requirement already satisfied: langsmith<0.2.0,>=0.1.17 in /usr/local/lib/python3.11/dist-packages (from langchain==0.2.17->paddlex[ie,multimodal,ocr]==3.0.0->paddleocr) (0.1.147)\n",
      "Requirement already satisfied: tenacity!=8.4.0,<9.0.0,>=8.1.0 in /usr/local/lib/python3.11/dist-packages (from langchain==0.2.17->paddlex[ie,multimodal,ocr]==3.0.0->paddleocr) (8.5.0)\n",
      "Requirement already satisfied: dataclasses-json<0.7,>=0.5.7 in /usr/local/lib/python3.11/dist-packages (from langchain-community==0.2.17->paddlex[ie,multimodal,ocr]==3.0.0->paddleocr) (0.6.7)\n",
      "Requirement already satisfied: anyio<5,>=3.5.0 in /usr/local/lib/python3.11/dist-packages (from openai==1.63.2->paddlex[ie,multimodal,ocr]==3.0.0->paddleocr) (4.9.0)\n",
      "Requirement already satisfied: distro<2,>=1.7.0 in /usr/local/lib/python3.11/dist-packages (from openai==1.63.2->paddlex[ie,multimodal,ocr]==3.0.0->paddleocr) (1.9.0)\n",
      "Requirement already satisfied: httpx<1,>=0.23.0 in /usr/local/lib/python3.11/dist-packages (from openai==1.63.2->paddlex[ie,multimodal,ocr]==3.0.0->paddleocr) (0.28.1)\n",
      "Requirement already satisfied: jiter<1,>=0.4.0 in /usr/local/lib/python3.11/dist-packages (from openai==1.63.2->paddlex[ie,multimodal,ocr]==3.0.0->paddleocr) (0.10.0)\n",
      "Requirement already satisfied: sniffio in /usr/local/lib/python3.11/dist-packages (from openai==1.63.2->paddlex[ie,multimodal,ocr]==3.0.0->paddleocr) (1.3.1)\n",
      "Requirement already satisfied: tqdm>4 in /usr/local/lib/python3.11/dist-packages (from openai==1.63.2->paddlex[ie,multimodal,ocr]==3.0.0->paddleocr) (4.67.1)\n",
      "Requirement already satisfied: huggingface-hub<1.0,>=0.16.4 in /usr/local/lib/python3.11/dist-packages (from tokenizers==0.19.1->paddlex[ie,multimodal,ocr]==3.0.0->paddleocr) (0.31.4)\n",
      "Requirement already satisfied: protobuf>=3.20.2 in /usr/local/lib/python3.11/dist-packages (from paddlepaddle) (5.29.4)\n",
      "Requirement already satisfied: decorator in /usr/local/lib/python3.11/dist-packages (from paddlepaddle) (4.4.2)\n",
      "Requirement already satisfied: astor in /usr/local/lib/python3.11/dist-packages (from paddlepaddle) (0.8.1)\n",
      "Requirement already satisfied: opt_einsum==3.3.0 in /usr/local/lib/python3.11/dist-packages (from paddlepaddle) (3.3.0)\n",
      "Requirement already satisfied: networkx in /usr/local/lib/python3.11/dist-packages (from paddlepaddle) (3.4.2)\n",
      "Requirement already satisfied: onnx>=1.16 in /usr/local/lib/python3.11/dist-packages (from paddle2onnx) (1.18.0)\n",
      "Requirement already satisfied: onnxoptimizer==0.3.13 in /usr/local/lib/python3.11/dist-packages (from paddle2onnx) (0.3.13)\n",
      "Requirement already satisfied: polygraphy>=0.49.20 in /usr/local/lib/python3.11/dist-packages (from paddle2onnx) (0.49.24)\n",
      "Requirement already satisfied: coloredlogs in /usr/local/lib/python3.11/dist-packages (from onnxruntime) (15.0.1)\n",
      "Requirement already satisfied: flatbuffers in /usr/local/lib/python3.11/dist-packages (from onnxruntime) (25.2.10)\n",
      "Requirement already satisfied: sympy in /usr/local/lib/python3.11/dist-packages (from onnxruntime) (1.13.1)\n",
      "Requirement already satisfied: certifi in /usr/local/lib/python3.11/dist-packages (from httpx<1,>=0.23.0->openai==1.63.2->paddlex[ie,multimodal,ocr]==3.0.0->paddleocr) (2025.4.26)\n",
      "Requirement already satisfied: httpcore==1.* in /usr/local/lib/python3.11/dist-packages (from httpx<1,>=0.23.0->openai==1.63.2->paddlex[ie,multimodal,ocr]==3.0.0->paddleocr) (1.0.9)\n",
      "Requirement already satisfied: idna in /usr/local/lib/python3.11/dist-packages (from httpx<1,>=0.23.0->openai==1.63.2->paddlex[ie,multimodal,ocr]==3.0.0->paddleocr) (3.10)\n",
      "Requirement already satisfied: h11>=0.16 in /usr/local/lib/python3.11/dist-packages (from httpcore==1.*->httpx<1,>=0.23.0->openai==1.63.2->paddlex[ie,multimodal,ocr]==3.0.0->paddleocr) (0.16.0)\n",
      "Requirement already satisfied: humanfriendly>=9.1 in /usr/local/lib/python3.11/dist-packages (from coloredlogs->onnxruntime) (10.0)\n",
      "Requirement already satisfied: mpmath<1.4,>=1.1.0 in /usr/local/lib/python3.11/dist-packages (from sympy->onnxruntime) (1.3.0)\n",
      "Requirement already satisfied: jsonpatch<2.0,>=1.33 in /usr/local/lib/python3.11/dist-packages (from langchain-core->paddlex[ie,multimodal,ocr]==3.0.0->paddleocr) (1.33)\n",
      "Requirement already satisfied: python-dateutil>=2.8.1 in /usr/local/lib/python3.11/dist-packages (from pandas<=1.5.3->paddlex==3.0.0->paddlex[ie,multimodal,ocr]==3.0.0->paddleocr) (2.9.0.post0)\n",
      "Requirement already satisfied: pytz>=2020.1 in /usr/local/lib/python3.11/dist-packages (from pandas<=1.5.3->paddlex==3.0.0->paddlex[ie,multimodal,ocr]==3.0.0->paddleocr) (2025.2)\n",
      "Requirement already satisfied: annotated-types>=0.6.0 in /usr/local/lib/python3.11/dist-packages (from pydantic>=2->paddlex==3.0.0->paddlex[ie,multimodal,ocr]==3.0.0->paddleocr) (0.7.0)\n",
      "Requirement already satisfied: pydantic-core==2.33.2 in /usr/local/lib/python3.11/dist-packages (from pydantic>=2->paddlex==3.0.0->paddlex[ie,multimodal,ocr]==3.0.0->paddleocr) (2.33.2)\n",
      "Requirement already satisfied: typing-inspection>=0.4.0 in /usr/local/lib/python3.11/dist-packages (from pydantic>=2->paddlex==3.0.0->paddlex[ie,multimodal,ocr]==3.0.0->paddleocr) (0.4.1)\n",
      "Requirement already satisfied: charset-normalizer<4,>=2 in /usr/local/lib/python3.11/dist-packages (from requests->paddlex==3.0.0->paddlex[ie,multimodal,ocr]==3.0.0->paddleocr) (3.4.2)\n",
      "Requirement already satisfied: urllib3<3,>=1.21.1 in /usr/local/lib/python3.11/dist-packages (from requests->paddlex==3.0.0->paddlex[ie,multimodal,ocr]==3.0.0->paddleocr) (2.4.0)\n",
      "Requirement already satisfied: wcwidth in /usr/local/lib/python3.11/dist-packages (from ftfy->paddlex[ie,multimodal,ocr]==3.0.0->paddleocr) (0.2.13)\n",
      "Requirement already satisfied: MarkupSafe>=2.0 in /usr/local/lib/python3.11/dist-packages (from Jinja2->paddlex[ie,multimodal,ocr]==3.0.0->paddleocr) (3.0.2)\n",
      "Requirement already satisfied: et-xmlfile in /usr/local/lib/python3.11/dist-packages (from openpyxl->paddlex[ie,multimodal,ocr]==3.0.0->paddleocr) (2.0.0)\n",
      "Requirement already satisfied: cssselect in /usr/local/lib/python3.11/dist-packages (from premailer->paddlex[ie,multimodal,ocr]==3.0.0->paddleocr) (1.3.0)\n",
      "Requirement already satisfied: cssutils in /usr/local/lib/python3.11/dist-packages (from premailer->paddlex[ie,multimodal,ocr]==3.0.0->paddleocr) (2.11.1)\n",
      "Requirement already satisfied: cachetools in /usr/local/lib/python3.11/dist-packages (from premailer->paddlex[ie,multimodal,ocr]==3.0.0->paddleocr) (5.5.2)\n",
      "Requirement already satisfied: ruamel.yaml.clib>=0.2.7 in /usr/local/lib/python3.11/dist-packages (from ruamel.yaml->paddlex==3.0.0->paddlex[ie,multimodal,ocr]==3.0.0->paddleocr) (0.2.12)\n",
      "Requirement already satisfied: scipy>=1.6.0 in /usr/local/lib/python3.11/dist-packages (from scikit-learn->paddlex[ie,multimodal,ocr]==3.0.0->paddleocr) (1.15.3)\n",
      "Requirement already satisfied: joblib>=1.2.0 in /usr/local/lib/python3.11/dist-packages (from scikit-learn->paddlex[ie,multimodal,ocr]==3.0.0->paddleocr) (1.5.0)\n",
      "Requirement already satisfied: threadpoolctl>=3.1.0 in /usr/local/lib/python3.11/dist-packages (from scikit-learn->paddlex[ie,multimodal,ocr]==3.0.0->paddleocr) (3.6.0)\n",
      "Requirement already satisfied: aiohappyeyeballs>=2.3.0 in /usr/local/lib/python3.11/dist-packages (from aiohttp<4.0.0,>=3.8.3->langchain==0.2.17->paddlex[ie,multimodal,ocr]==3.0.0->paddleocr) (2.6.1)\n",
      "Requirement already satisfied: aiosignal>=1.1.2 in /usr/local/lib/python3.11/dist-packages (from aiohttp<4.0.0,>=3.8.3->langchain==0.2.17->paddlex[ie,multimodal,ocr]==3.0.0->paddleocr) (1.3.2)\n",
      "Requirement already satisfied: attrs>=17.3.0 in /usr/local/lib/python3.11/dist-packages (from aiohttp<4.0.0,>=3.8.3->langchain==0.2.17->paddlex[ie,multimodal,ocr]==3.0.0->paddleocr) (25.3.0)\n",
      "Requirement already satisfied: frozenlist>=1.1.1 in /usr/local/lib/python3.11/dist-packages (from aiohttp<4.0.0,>=3.8.3->langchain==0.2.17->paddlex[ie,multimodal,ocr]==3.0.0->paddleocr) (1.6.0)\n",
      "Requirement already satisfied: multidict<7.0,>=4.5 in /usr/local/lib/python3.11/dist-packages (from aiohttp<4.0.0,>=3.8.3->langchain==0.2.17->paddlex[ie,multimodal,ocr]==3.0.0->paddleocr) (6.4.4)\n",
      "Requirement already satisfied: propcache>=0.2.0 in /usr/local/lib/python3.11/dist-packages (from aiohttp<4.0.0,>=3.8.3->langchain==0.2.17->paddlex[ie,multimodal,ocr]==3.0.0->paddleocr) (0.3.1)\n",
      "Requirement already satisfied: yarl<2.0,>=1.17.0 in /usr/local/lib/python3.11/dist-packages (from aiohttp<4.0.0,>=3.8.3->langchain==0.2.17->paddlex[ie,multimodal,ocr]==3.0.0->paddleocr) (1.20.0)\n",
      "Requirement already satisfied: marshmallow<4.0.0,>=3.18.0 in /usr/local/lib/python3.11/dist-packages (from dataclasses-json<0.7,>=0.5.7->langchain-community==0.2.17->paddlex[ie,multimodal,ocr]==3.0.0->paddleocr) (3.26.1)\n",
      "Requirement already satisfied: typing-inspect<1,>=0.4.0 in /usr/local/lib/python3.11/dist-packages (from dataclasses-json<0.7,>=0.5.7->langchain-community==0.2.17->paddlex[ie,multimodal,ocr]==3.0.0->paddleocr) (0.9.0)\n",
      "Requirement already satisfied: fsspec>=2023.5.0 in /usr/local/lib/python3.11/dist-packages (from huggingface-hub<1.0,>=0.16.4->tokenizers==0.19.1->paddlex[ie,multimodal,ocr]==3.0.0->paddleocr) (2025.3.2)\n",
      "Requirement already satisfied: jsonpointer>=1.9 in /usr/local/lib/python3.11/dist-packages (from jsonpatch<2.0,>=1.33->langchain-core->paddlex[ie,multimodal,ocr]==3.0.0->paddleocr) (3.0.0)\n",
      "Requirement already satisfied: orjson<4.0.0,>=3.9.14 in /usr/local/lib/python3.11/dist-packages (from langsmith<0.2.0,>=0.1.17->langchain==0.2.17->paddlex[ie,multimodal,ocr]==3.0.0->paddleocr) (3.10.18)\n",
      "Requirement already satisfied: requests-toolbelt<2.0.0,>=1.0.0 in /usr/local/lib/python3.11/dist-packages (from langsmith<0.2.0,>=0.1.17->langchain==0.2.17->paddlex[ie,multimodal,ocr]==3.0.0->paddleocr) (1.0.0)\n",
      "Requirement already satisfied: six>=1.5 in /usr/local/lib/python3.11/dist-packages (from python-dateutil>=2.8.1->pandas<=1.5.3->paddlex==3.0.0->paddlex[ie,multimodal,ocr]==3.0.0->paddleocr) (1.17.0)\n",
      "Requirement already satisfied: greenlet>=1 in /usr/local/lib/python3.11/dist-packages (from SQLAlchemy<3,>=1.4->langchain==0.2.17->paddlex[ie,multimodal,ocr]==3.0.0->paddleocr) (3.2.2)\n",
      "Requirement already satisfied: more-itertools in /usr/local/lib/python3.11/dist-packages (from cssutils->premailer->paddlex[ie,multimodal,ocr]==3.0.0->paddleocr) (10.7.0)\n",
      "Requirement already satisfied: mypy-extensions>=0.3.0 in /usr/local/lib/python3.11/dist-packages (from typing-inspect<1,>=0.4.0->dataclasses-json<0.7,>=0.5.7->langchain-community==0.2.17->paddlex[ie,multimodal,ocr]==3.0.0->paddleocr) (1.1.0)\n"
     ]
    }
   ],
   "source": [
    "!pip install paddleocr paddlepaddle paddle2onnx onnxruntime onnxslim"
   ]
  },
  {
   "cell_type": "code",
   "execution_count": null,
   "metadata": {
    "executionInfo": {
     "elapsed": 112,
     "status": "ok",
     "timestamp": 1748925536547,
     "user": {
      "displayName": "Awal Ariansyah",
      "userId": "00770188991731066934"
     },
     "user_tz": -420
    },
    "id": "JRPX9TePyxzY"
   },
   "outputs": [],
   "source": [
    "# https://paddlepaddle.github.io/PaddleOCR/latest/en/version3.x/module_usage/text_detection.html\n",
    "!tar -xf /content/PP-OCRv5_mobile_det_infer.tar\n"
   ]
  },
  {
   "cell_type": "code",
   "execution_count": 4,
   "metadata": {
    "colab": {
     "base_uri": "https://localhost:8080/"
    },
    "executionInfo": {
     "elapsed": 1701,
     "status": "ok",
     "timestamp": 1748925669577,
     "user": {
      "displayName": "Awal Ariansyah",
      "userId": "00770188991731066934"
     },
     "user_tz": -420
    },
    "id": "E7acIa_M0YKm",
    "outputId": "c78f53f1-2bb4-42d1-e11a-6fcb71405169"
   },
   "outputs": [
    {
     "name": "stdout",
     "output_type": "stream",
     "text": [
      "/usr/local/lib/python3.11/dist-packages/paddle/utils/cpp_extension/extension_utils.py:711: UserWarning: No ccache found. Please be aware that recompiling all source files may be required. You can download and install ccache from: https://github.com/ccache/ccache/blob/master/doc/INSTALL.md\n",
      "  warnings.warn(warning_message)\n",
      "[Paddle2ONNX] Start parsing the Paddle model file...\n",
      "[Paddle2ONNX] Use opset_version = 14 for ONNX export.\n",
      "[Paddle2ONNX] PaddlePaddle model is exported as ONNX format now.\n",
      "2025-06-03 04:41:09 [INFO]\tTry to perform optimization on the ONNX model with onnxoptimizer.\n",
      "2025-06-03 04:41:09 [INFO]\tONNX model saved in PP-OCRv5_mobile_det_infer.raw.onnx.\n"
     ]
    }
   ],
   "source": [
    "!paddle2onnx --model_dir PP-OCRv5_mobile_det_infer \\\n",
    "            --model_filename inference.json \\\n",
    "            --params_filename inference.pdiparams \\\n",
    "            --save_file PP-OCRv5_mobile_det_infer.raw.onnx"
   ]
  },
  {
   "cell_type": "code",
   "execution_count": 5,
   "metadata": {
    "colab": {
     "base_uri": "https://localhost:8080/"
    },
    "executionInfo": {
     "elapsed": 5304,
     "status": "ok",
     "timestamp": 1748925682467,
     "user": {
      "displayName": "Awal Ariansyah",
      "userId": "00770188991731066934"
     },
     "user_tz": -420
    },
    "id": "14nRBRSuFxfJ",
    "outputId": "7eeb42de-013b-49c7-996e-7bbf50fc604b"
   },
   "outputs": [
    {
     "name": "stdout",
     "output_type": "stream",
     "text": [
      "Onnx Runtime version 1.22 has no specified compatible ONNX version.\n",
      "+--------------------+------------------------------------+------------------------------------+\n",
      "|     Model Name     | PP-OCRv5_mobile_det_infer.raw.onnx |   PP-OCRv5_mobile_det_infer.onnx   |\n",
      "+--------------------+------------------------------------+------------------------------------+\n",
      "|     Model Info     |     Op Set: 14 / IR Version: 7     |     Op Set: 14 / IR Version: 7     |\n",
      "+--------------------+------------------------------------+------------------------------------+\n",
      "|       IN: x        | float32: ('DynamicDimension.0', 3, | float32: ('DynamicDimension.0', 3, |\n",
      "|                    |       'DynamicDimension.1',        |       'DynamicDimension.1',        |\n",
      "|                    |       'DynamicDimension.2')        |       'DynamicDimension.2')        |\n",
      "| OUT: fetch_name_0  | float32: ('DynamicDimension.3', 1, | float32: ('DynamicDimension.3', 1, |\n",
      "|                    |       'DynamicDimension.4',        |       'DynamicDimension.4',        |\n",
      "|                    |       'DynamicDimension.5')        |       'DynamicDimension.5')        |\n",
      "+--------------------+------------------------------------+------------------------------------+\n",
      "|        Add         |                117                 |                117                 |\n",
      "| BatchNormalization |                 3                  |                 \u001b[32m1\u001b[37m\u001b[0m                  |\n",
      "|       Concat       |                 1                  |                 1                  |\n",
      "|      Constant      |                300                 |                 \u001b[32m0\u001b[37m\u001b[0m                  |\n",
      "|        Conv        |                 62                 |                 62                 |\n",
      "|   ConvTranspose    |                 2                  |                 2                  |\n",
      "| GlobalAveragePool  |                 10                 |                 10                 |\n",
      "|    HardSigmoid     |                 10                 |                 10                 |\n",
      "|     HardSwish      |                 24                 |                 24                 |\n",
      "|        Mul         |                 62                 |                 62                 |\n",
      "|        Relu        |                 12                 |                 12                 |\n",
      "|      Reshape       |                 54                 |                 54                 |\n",
      "|       Resize       |                 6                  |                 6                  |\n",
      "|      Sigmoid       |                 1                  |                 1                  |\n",
      "+--------------------+------------------------------------+------------------------------------+\n",
      "|     Model Size     |              4.53 MB               |              4.56 MB               |\n",
      "+--------------------+------------------------------------+------------------------------------+\n",
      "|    Elapsed Time    |                                  2.73 s                                 |\n",
      "+--------------------+------------------------------------+------------------------------------+\n"
     ]
    }
   ],
   "source": [
    "!onnxslim PP-OCRv5_mobile_det_infer.raw.onnx PP-OCRv5_mobile_det_infer.onnx"
   ]
  },
  {
   "cell_type": "code",
   "execution_count": null,
   "metadata": {
    "executionInfo": {
     "elapsed": 108,
     "status": "ok",
     "timestamp": 1748925553904,
     "user": {
      "displayName": "Awal Ariansyah",
      "userId": "00770188991731066934"
     },
     "user_tz": -420
    },
    "id": "6UgX4HbZzfVy"
   },
   "outputs": [],
   "source": [
    "# https://paddlepaddle.github.io/PaddleOCR/latest/en/version3.x/module_usage/text_recognition.html\n",
    "!tar -xf /content/en_PP-OCRv4_mobile_rec_infer.tar"
   ]
  },
  {
   "cell_type": "code",
   "execution_count": 6,
   "metadata": {
    "colab": {
     "base_uri": "https://localhost:8080/"
    },
    "executionInfo": {
     "elapsed": 1724,
     "status": "ok",
     "timestamp": 1748925755185,
     "user": {
      "displayName": "Awal Ariansyah",
      "userId": "00770188991731066934"
     },
     "user_tz": -420
    },
    "id": "2rrQegeV0s6f",
    "outputId": "9f6c734d-2545-4090-f03e-0091d56ab224"
   },
   "outputs": [
    {
     "name": "stdout",
     "output_type": "stream",
     "text": [
      "/usr/local/lib/python3.11/dist-packages/paddle/utils/cpp_extension/extension_utils.py:711: UserWarning: No ccache found. Please be aware that recompiling all source files may be required. You can download and install ccache from: https://github.com/ccache/ccache/blob/master/doc/INSTALL.md\n",
      "  warnings.warn(warning_message)\n",
      "[Paddle2ONNX] Start parsing the Paddle model file...\n",
      "[Paddle2ONNX] Use opset_version = 14 for ONNX export.\n",
      "[Paddle2ONNX] PaddlePaddle model is exported as ONNX format now.\n",
      "2025-06-03 04:42:34 [INFO]\tTry to perform optimization on the ONNX model with onnxoptimizer.\n",
      "2025-06-03 04:42:35 [INFO]\tONNX model saved in en_PP-OCRv4_mobile_rec_infer.raw.onnx.\n"
     ]
    }
   ],
   "source": [
    "!paddle2onnx --model_dir en_PP-OCRv4_mobile_rec_infer \\\n",
    "            --model_filename inference.json \\\n",
    "            --params_filename inference.pdiparams \\\n",
    "            --save_file en_PP-OCRv4_mobile_rec_infer.raw.onnx"
   ]
  },
  {
   "cell_type": "code",
   "execution_count": 7,
   "metadata": {
    "colab": {
     "base_uri": "https://localhost:8080/"
    },
    "executionInfo": {
     "elapsed": 1654,
     "status": "ok",
     "timestamp": 1748925758759,
     "user": {
      "displayName": "Awal Ariansyah",
      "userId": "00770188991731066934"
     },
     "user_tz": -420
    },
    "id": "qQmGYRQjF6oi",
    "outputId": "4f0c7956-f6bf-41b7-c023-ece100a6b3f4"
   },
   "outputs": [
    {
     "name": "stdout",
     "output_type": "stream",
     "text": [
      "Onnx Runtime version 1.22 has no specified compatible ONNX version.\n",
      "+--------------------+----------------------------------------+----------------------------------------+\n",
      "|     Model Name     | en_PP-OCRv4_mobile_rec_infer.raw.onnx  |   Pen_PP-OCRv4_mobile_rec_infer.onnx   |\n",
      "+--------------------+----------------------------------------+----------------------------------------+\n",
      "|     Model Info     |       Op Set: 14 / IR Version: 7       |       Op Set: 14 / IR Version: 7       |\n",
      "+--------------------+----------------------------------------+----------------------------------------+\n",
      "|       IN: x        | float32: ('DynamicDimension.0', 3, 48, | float32: ('DynamicDimension.0', 3, 48, |\n",
      "|                    |         'DynamicDimension.1')          |         'DynamicDimension.1')          |\n",
      "| OUT: fetch_name_0  |    float32: ('DynamicDimension.2',     |    float32: ('DynamicDimension.2',     |\n",
      "|                    |       'DynamicDimension.3', 97)        |       'DynamicDimension.3', 97)        |\n",
      "+--------------------+----------------------------------------+----------------------------------------+\n",
      "|        Add         |                  112                   |                  \u001b[32m111\u001b[37m\u001b[0m                   |\n",
      "|    AveragePool     |                   1                    |                   1                    |\n",
      "| BatchNormalization |                   6                    |                   \u001b[32m0\u001b[37m\u001b[0m                    |\n",
      "|       Concat       |                   3                    |                   3                    |\n",
      "|      Constant      |                  342                   |                   \u001b[32m0\u001b[37m\u001b[0m                    |\n",
      "|        Conv        |                   38                   |                   38                   |\n",
      "|        Div         |                   5                    |                   5                    |\n",
      "| GlobalAveragePool  |                   2                    |                   2                    |\n",
      "|    HardSigmoid     |                   2                    |                   2                    |\n",
      "|     HardSwish      |                   28                   |                   28                   |\n",
      "|       MatMul       |                   13                   |                   13                   |\n",
      "|        Mul         |                   72                   |                   72                   |\n",
      "|        Pow         |                   5                    |                   5                    |\n",
      "|     ReduceMean     |                   10                   |                   10                   |\n",
      "|        Relu        |                   2                    |                   2                    |\n",
      "|      Reshape       |                   50                   |                   \u001b[32m48\u001b[37m\u001b[0m                   |\n",
      "|       Shape        |                   4                    |                   \u001b[32m1\u001b[37m\u001b[0m                    |\n",
      "|      Sigmoid       |                   7                    |                   7                    |\n",
      "|       Slice        |                   8                    |                   8                    |\n",
      "|      Softmax       |                   3                    |                   3                    |\n",
      "|        Sqrt        |                   5                    |                   5                    |\n",
      "|      Squeeze       |                   9                    |                   9                    |\n",
      "|        Sub         |                   5                    |                   5                    |\n",
      "|     Transpose      |                   9                    |                   9                    |\n",
      "|     Unsqueeze      |                   5                    |                   5                    |\n",
      "+--------------------+----------------------------------------+----------------------------------------+\n",
      "|     Model Size     |                7.31 MB                 |                7.32 MB                 |\n",
      "+--------------------+----------------------------------------+----------------------------------------+\n",
      "|    Elapsed Time    |                                      0.87 s                                     |\n",
      "+--------------------+----------------------------------------+----------------------------------------+\n"
     ]
    }
   ],
   "source": [
    "!onnxslim en_PP-OCRv4_mobile_rec_infer.raw.onnx en_PP-OCRv4_mobile_rec_infer.onnx"
   ]
  }
 ],
 "metadata": {
  "accelerator": "GPU",
  "colab": {
   "authorship_tag": "ABX9TyMgtJHwBBKem8kdEEUYpL+q",
   "gpuType": "T4",
   "provenance": []
  },
  "kernelspec": {
   "display_name": "Python 3",
   "name": "python3"
  },
  "language_info": {
   "name": "python"
  }
 },
 "nbformat": 4,
 "nbformat_minor": 0
}
